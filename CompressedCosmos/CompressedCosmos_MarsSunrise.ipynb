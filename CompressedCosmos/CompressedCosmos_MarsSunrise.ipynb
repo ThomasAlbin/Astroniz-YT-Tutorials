{
  "nbformat": 4,
  "nbformat_minor": 0,
  "metadata": {
    "colab": {
      "provenance": [],
      "authorship_tag": "ABX9TyOj77NfjAHw9skmMmTFpgeV",
      "include_colab_link": true
    },
    "kernelspec": {
      "name": "python3",
      "display_name": "Python 3"
    },
    "language_info": {
      "name": "python"
    }
  },
  "cells": [
    {
      "cell_type": "markdown",
      "metadata": {
        "id": "view-in-github",
        "colab_type": "text"
      },
      "source": [
        "<a href=\"https://colab.research.google.com/github/ThomasAlbin/Astroniz-YT-Tutorials/blob/main/CompressedCosmos/CompressedCosmos_MarsSunrise.ipynb\" target=\"_parent\"><img src=\"https://colab.research.google.com/assets/colab-badge.svg\" alt=\"Open In Colab\"/></a>"
      ]
    },
    {
      "cell_type": "markdown",
      "source": [
        "# The Sun from Mars\n",
        "\n",
        "In this script we are taking a look on how to compute the Sun's position as see from the surface of Mars. For more details, please refer to my YouTube channel: https://www.youtube.com/@Astroniz"
      ],
      "metadata": {
        "id": "tovRH8fw15Y8"
      }
    },
    {
      "cell_type": "code",
      "execution_count": null,
      "metadata": {
        "colab": {
          "base_uri": "https://localhost:8080/"
        },
        "id": "pynbDVYtNOt7",
        "outputId": "6d17a8ff-d50c-4ee1-8565-9cca6248fd1b"
      },
      "outputs": [
        {
          "output_type": "stream",
          "name": "stdout",
          "text": [
            "Collecting spiceypy\n",
            "  Downloading spiceypy-6.0.0-py3-none-manylinux_2_17_x86_64.manylinux2014_x86_64.whl.metadata (8.0 kB)\n",
            "Requirement already satisfied: numpy>=1.17.0 in /usr/local/lib/python3.11/dist-packages (from spiceypy) (2.0.2)\n",
            "Downloading spiceypy-6.0.0-py3-none-manylinux_2_17_x86_64.manylinux2014_x86_64.whl (1.7 MB)\n",
            "\u001b[2K   \u001b[90m━━━━━━━━━━━━━━━━━━━━━━━━━━━━━━━━━━━━━━━━\u001b[0m \u001b[32m1.7/1.7 MB\u001b[0m \u001b[31m14.1 MB/s\u001b[0m eta \u001b[36m0:00:00\u001b[0m\n",
            "\u001b[?25hInstalling collected packages: spiceypy\n",
            "Successfully installed spiceypy-6.0.0\n"
          ]
        }
      ],
      "source": [
        "!pip install spiceypy"
      ]
    },
    {
      "cell_type": "code",
      "source": [
        "import spiceypy\n",
        "import numpy as np\n",
        "import math\n",
        "import os\n",
        "from datetime import datetime\n",
        "\n",
        "# Define kernel file names\n",
        "# Ensure these files are present!!!\n",
        "LASKEEP_KERNEL = \"naif0012.tls\"\n",
        "PCK_KERNEL = \"pck00011.tpc\"\n",
        "SPK_KERNEL = \"de442s.bsp\"\n",
        "kernel_paths = [LASKEEP_KERNEL, PCK_KERNEL, SPK_KERNEL]\n",
        "\n",
        "# --- Load Kernels ---\n",
        "for kp in kernel_paths:\n",
        "    spiceypy.furnsh(kp)\n",
        "\n",
        "# SPICE Constants\n",
        "MARS_ID = 4 # Barycenter (!)\n",
        "MARS_NAME = 'MARS'\n",
        "SUN_ID = 10\n",
        "J2000_FRAME = 'J2000'\n",
        "MARS_FIXED_FRAME = 'IAU_MARS'\n",
        "ABERRATION_CORRECTION = 'LT+S'"
      ],
      "metadata": {
        "id": "kZPqrNKqGQq6"
      },
      "execution_count": null,
      "outputs": []
    },
    {
      "cell_type": "code",
      "source": [
        "# Coordiantes & Date-Time\n",
        "# Example: Location near Gale Crater (Curiosity Rover landing site approx)\n",
        "mars_latitude = -5.0  # Degrees North\n",
        "mars_longitude = 137.0 # Degrees East\n",
        "\n",
        "datetime_utc = datetime(2025, 4, 6, 15, 16, 31)\n",
        "observation_utc = datetime_utc.strftime(\"%Y-%m-%d %H:%M:%S\")"
      ],
      "metadata": {
        "id": "PI76vhmsGOGU"
      },
      "execution_count": null,
      "outputs": []
    },
    {
      "cell_type": "code",
      "source": [
        "# Convert input angular measures to radians for SPICE functions\n",
        "mars_latitude_rad = math.radians(mars_latitude)\n",
        "mars_longitude_rad = math.radians(mars_longitude)\n",
        "\n",
        "# ET\n",
        "et = spiceypy.utc2et(observation_utc) # Convert UTC to Ephemeris Time"
      ],
      "metadata": {
        "id": "hzQj4fB-IkHh"
      },
      "execution_count": null,
      "outputs": []
    },
    {
      "cell_type": "code",
      "source": [
        "# Obtain now geo-physical parameter of Mars\n",
        "radii_km = spiceypy.bodvrd(MARS_NAME, 'RADII', 3)\n",
        "equatorial_radius_km = radii_km[1][0]\n",
        "polar_radius_km = radii_km[1][2]\n",
        "\n",
        "# We need to determine how \"flat\" Mars is for a future SPICE function called GEOREC\n",
        "flattening = (equatorial_radius_km - polar_radius_km) / equatorial_radius_km"
      ],
      "metadata": {
        "id": "5dFLaCSGK-OC"
      },
      "execution_count": null,
      "outputs": []
    },
    {
      "cell_type": "code",
      "source": [
        "# Observer Position (Cartesian in IAU_MARS)\n",
        "pos_observer_mars_fixed = spiceypy.georec(mars_longitude_rad,\n",
        "                                          mars_latitude_rad,\n",
        "                                          0,\n",
        "                                          equatorial_radius_km,\n",
        "                                          flattening)\n",
        "\n",
        "# Compute vector Mars Center to Sun Center in IAU_Mars\n",
        "mars2sun_vec, _ = spiceypy.spkgps(targ=SUN_ID,\n",
        "                                  et=et,\n",
        "                                  ref=MARS_FIXED_FRAME,\n",
        "                                  obs=MARS_ID)\n",
        "\n",
        "# Observer to Sun is: Mars2Sun - Mars2Obs\n",
        "obs2sun_vec = mars2sun_vec - pos_observer_mars_fixed"
      ],
      "metadata": {
        "id": "fskZLLoyLRRW"
      },
      "execution_count": null,
      "outputs": []
    },
    {
      "cell_type": "code",
      "source": [
        "# Now we can compute the RA/DEC values of the Sun and teh Alt/AZ values as seen from the oberserver\n",
        "_, sun_ra_rad, sun_dec_rad = spiceypy.recrad(mars2sun_vec)\n",
        "_ sun_az_rad, sun_elev_rad = spiceypy.recazl(obs2sun_vec,\n",
        "                                              mars_latitude_rad,\n",
        "                                              mars_longitude_rad)"
      ],
      "metadata": {
        "id": "hSWPI3HKkP1-"
      },
      "execution_count": null,
      "outputs": []
    },
    {
      "cell_type": "code",
      "source": [
        "print(f\"Apparent Sun RA:    {np.degrees(sun_ra_rad):.1f} degrees\")\n",
        "print(f\"Apparent Sun Dec:   {np.degrees(sun_dec_rad):.1f} degrees\")\n",
        "print(f\"Apparent Sun Az:    {np.degrees(sun_az_rad):.1f} degrees (from North, clockwise)\")\n",
        "print(f\"Apparent Sun Alt:   {np.degrees(sun_elev_rad):.1f} degrees (above horizon)\")"
      ],
      "metadata": {
        "id": "bYZm1eXiktsD"
      },
      "execution_count": null,
      "outputs": []
    }
  ]
}