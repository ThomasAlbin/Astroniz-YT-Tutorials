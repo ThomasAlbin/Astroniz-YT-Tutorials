{
  "nbformat": 4,
  "nbformat_minor": 0,
  "metadata": {
    "colab": {
      "provenance": [],
      "authorship_tag": "ABX9TyO/9zlJFzWAoCE8siG6mwlK",
      "include_colab_link": true
    },
    "kernelspec": {
      "name": "python3",
      "display_name": "Python 3"
    },
    "language_info": {
      "name": "python"
    }
  },
  "cells": [
    {
      "cell_type": "markdown",
      "metadata": {
        "id": "view-in-github",
        "colab_type": "text"
      },
      "source": [
        "<a href=\"https://colab.research.google.com/github/ThomasAlbin/Astroniz-YT-Tutorials/blob/main/CompressedCosmos/CompressedCosmos_Tidal_Forces.ipynb\" target=\"_parent\"><img src=\"https://colab.research.google.com/assets/colab-badge.svg\" alt=\"Open In Colab\"/></a>"
      ]
    },
    {
      "cell_type": "markdown",
      "source": [
        "# Compressed Cosmos: Tidal Forces\n",
        "\n",
        "What would happen if the moon could revolve around us on a closer orbit? Stranger tides? A brighter moon? For sure. But can the Moon take *any* orbit around our home planet?\n",
        "\n",
        "Well... no. At some point the so-called *tidal forces* would rip the Moon apart.\n",
        "\n",
        "There are 2 ways to compute these tidal forces that lead to a so-called critical distance between a planet and a moon before the latter is fragmented: one derivation considers a rigid body (no deformations possible and also pretty unrealistic) the other one considers objects as deformable.\n",
        "\n",
        "Considering the radius of a planet $R_{\\text{planet}}$ and its (mean) density $\\rho_{\\text{planet}}$ as well as the density of the moon $\\rho_{\\text{moon}}$ the \"critical\" distance between two bodies becomes:\n",
        "\n",
        "$$d_{\\text{critical}}=16^{1/3}R_{\\text{planet}} \\left(\\frac{\\rho_{\\text{planet}}}{\\rho_{\\text{moon}}} \\right)^{1/3}$$\n",
        "\n",
        "Let's play around with these values!"
      ],
      "metadata": {
        "id": "1CcidBHYHJbO"
      }
    },
    {
      "cell_type": "code",
      "execution_count": 1,
      "metadata": {
        "id": "TannqQEHEeSB"
      },
      "outputs": [],
      "source": [
        "def roche_limit(r_planet, rho_planet, rho_moon):\n",
        "    \"\"\"\n",
        "    Calculates the Roche limit for a planet with a given radius and density.\n",
        "\n",
        "    Parameters:\n",
        "    r_planet (float): The radius of the planet in meters.\n",
        "    rho_planet (float): The density of the planet in kg/m^3.\n",
        "    rho_moon (float): The density of the moon in kg/m^3.\n",
        "    \"\"\"\n",
        "\n",
        "    d_critical = 16**(1.0/3.0) * r_planet * (rho_planet / rho_moon)**(1.0/3.0)\n",
        "\n",
        "    return d_critical"
      ]
    },
    {
      "cell_type": "code",
      "source": [
        "# Values for our Earth-Moon system\n",
        "r_earth = \t6371 * 1000 # in meters\n",
        "rho_earth = 5513 # in kg/m^3\n",
        "rho_moon = 3344 # in kg/m^3\n",
        "\n",
        "d_critical_earth2moon = roche_limit(r_planet=r_earth,\n",
        "                                    rho_planet=rho_earth,\n",
        "                                    rho_moon=rho_moon)"
      ],
      "metadata": {
        "id": "lpYHp-uOJkKX"
      },
      "execution_count": 2,
      "outputs": []
    },
    {
      "cell_type": "code",
      "source": [
        "# Critical distance between our home planet and the Moon (moon_radiu around 1,700 km)\n",
        "print(round(d_critical_earth2moon / 1000))"
      ],
      "metadata": {
        "colab": {
          "base_uri": "https://localhost:8080/"
        },
        "id": "_MkTXWtGJ46w",
        "outputId": "60659f44-8792-40be-8486-5a95d8d0b369"
      },
      "execution_count": 3,
      "outputs": [
        {
          "output_type": "stream",
          "name": "stdout",
          "text": [
            "18965\n"
          ]
        }
      ]
    },
    {
      "cell_type": "code",
      "source": [
        "# Let's check for Saturn and Enceladus\n",
        "r_saturn = \t58232 * 1000 # in meters\n",
        "rho_saturn = 687 # in kg/m^3\n",
        "rho_enceladus = 1610 # in kg/m^3\n",
        "\n",
        "d_critical_saturn2enceladus = roche_limit(r_planet=r_saturn,\n",
        "                                          rho_planet=rho_saturn,\n",
        "                                          rho_moon=rho_enceladus)"
      ],
      "metadata": {
        "id": "drVVdedlJ53_"
      },
      "execution_count": null,
      "outputs": []
    },
    {
      "cell_type": "code",
      "source": [
        "print(round(d_critical_saturn2enceladus / 1000))"
      ],
      "metadata": {
        "colab": {
          "base_uri": "https://localhost:8080/"
        },
        "id": "HJyz7VTsMTvA",
        "outputId": "1dca1162-157d-4e9f-bee4-b7bc482de972"
      },
      "execution_count": null,
      "outputs": [
        {
          "output_type": "execute_result",
          "data": {
            "text/plain": [
              "110470.24595358867"
            ]
          },
          "metadata": {},
          "execution_count": 12
        }
      ]
    },
    {
      "cell_type": "markdown",
      "source": [
        "The semi-major axis of Enceladus is ~240,000 km. This moon is safe! But take a look at the range of the Saturn ring system:\n",
        "![saturn_rings](https://upload.wikimedia.org/wikipedia/commons/b/b1/Saturn%27s_rings_dark_side_mosaic.jpg)\n",
        "\n",
        "Consider a similar density as Enceladus; some icey world. Well, it *might* be that the \"Saturn ring system distance range\" is wihting the critical range of distructive tidal forces.\n",
        "\n",
        "However, please note that these tidal forces have a large effect on objects that are held together mainly by their gravitational forces / pull (like larger moons, asteroid or comets). Smaller objects are bound by other adhesive forces."
      ],
      "metadata": {
        "id": "c3O-JuyUBvEE"
      }
    }
  ]
}
