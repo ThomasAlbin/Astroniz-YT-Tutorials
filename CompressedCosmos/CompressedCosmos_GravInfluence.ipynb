{
  "nbformat": 4,
  "nbformat_minor": 0,
  "metadata": {
    "colab": {
      "provenance": [],
      "authorship_tag": "ABX9TyMKejw7020m4/U29yjrbkYY",
      "include_colab_link": true
    },
    "kernelspec": {
      "name": "python3",
      "display_name": "Python 3"
    },
    "language_info": {
      "name": "python"
    }
  },
  "cells": [
    {
      "cell_type": "markdown",
      "metadata": {
        "id": "view-in-github",
        "colab_type": "text"
      },
      "source": [
        "<a href=\"https://colab.research.google.com/github/ThomasAlbin/Astroniz-YT-Tutorials-HIDDEN/blob/main/CompressedCosmos_GravInfluence.ipynb\" target=\"_parent\"><img src=\"https://colab.research.google.com/assets/colab-badge.svg\" alt=\"Open In Colab\"/></a>"
      ]
    },
    {
      "cell_type": "code",
      "execution_count": 4,
      "metadata": {
        "colab": {
          "base_uri": "https://localhost:8080/"
        },
        "id": "L-vVPbWNc_GG",
        "outputId": "c88de685-ab73-4aac-9766-7e412d53fa92"
      },
      "outputs": [
        {
          "output_type": "stream",
          "name": "stdout",
          "text": [
            "Hill sphere radius of the Earth: 1471426.0 kilometers\n"
          ]
        }
      ],
      "source": [
        "# prompt: create a function that computes the hill sphere radius of an object, depending on the semi-major axis, eccentricity, mass of the larger and smaller objects. create a test case with the earth w.r.t. the sun. use the numpy documentation standard\n",
        "\n",
        "import numpy as np\n",
        "\n",
        "def hill_sphere(a, e, M_primary, M_secondary):\n",
        "    \"\"\"Computes the Hill sphere radius of the secondardy object.\n",
        "\n",
        "    Parameters\n",
        "    ----------\n",
        "    a : float\n",
        "        Semi-major axis of the secondary object's orbit around the primary object. In meters\n",
        "    e : float\n",
        "        Eccentricity of the secondary object's orbit.\n",
        "    M_primary : float\n",
        "        Mass of the primary object. In kg\n",
        "    M_secondary : float\n",
        "        Mass of the secondary object. In kg\n",
        "\n",
        "    Returns\n",
        "    -------\n",
        "    r_h : float\n",
        "        Hill sphere radius of the secondary object. In meters\n",
        "\n",
        "    Notes\n",
        "    -----\n",
        "    The Hill sphere is an approximation of the region around a celestial body\n",
        "    where its gravitational influence dominates over the gravitational influence\n",
        "    of a more massive body.\n",
        "\n",
        "    Examples\n",
        "    --------\n",
        "    >>> hill_sphere(149.6e9, 0.0167, 1.989e30, 5.972e24)\n",
        "    1471426088.2260463\n",
        "    \"\"\"\n",
        "\n",
        "    r_h = a * (1 - e) * (M_secondary / (3 * (M_primary + M_secondary)))**(1/3)\n",
        "    return r_h\n",
        "\n",
        "\n",
        "# Test case: Earth w.r.t. the Sun (data obtained from Wikipedia)\n",
        "a_earth = 149.6e9  # meters\n",
        "e_earth = 0.0167\n",
        "M_sun = 1.989e30  # kg\n",
        "M_earth = 5.972e24  # kg\n",
        "\n",
        "r_h_earth = hill_sphere(a_earth, e_earth, M_sun, M_earth)\n",
        "print(f\"Hill sphere radius of the Earth: {round(r_h_earth / 1000, 0)} kilometers\")"
      ]
    },
    {
      "cell_type": "code",
      "source": [
        "def sphere_of_influence(a, M_primary, M_secondary):\n",
        "    \"\"\"Computes the Hill sphere radius of the secondary object.\n",
        "\n",
        "    Parameters\n",
        "    ----------\n",
        "    a : float\n",
        "        Semi-major axis of the secondary object's orbit around the primary object. In meters\n",
        "    M_primary : float\n",
        "        Mass of the primary object. In kg\n",
        "    M_secondary : float\n",
        "        Mass of the secondary object. In kg\n",
        "\n",
        "    Returns\n",
        "    -------\n",
        "    r_soi : float\n",
        "        Sphere of influence radius of the secondary object. In meters\n",
        "    \"\"\"\n",
        "\n",
        "    r_soi = a * (M_secondary / M_primary)**(2/5)\n",
        "    return r_soi\n",
        "\n",
        "r_soi_earth= sphere_of_influence(a_earth, M_sun, M_earth)\n",
        "print(f\"Sphere of influence (SOI) radius of the Earth: {round(r_soi_earth / 1000, 0)} kilometers\")"
      ],
      "metadata": {
        "colab": {
          "base_uri": "https://localhost:8080/"
        },
        "id": "X3IJO4_dfmps",
        "outputId": "acbdfc22-902f-4806-b1c8-840fe45f1f9a"
      },
      "execution_count": 6,
      "outputs": [
        {
          "output_type": "stream",
          "name": "stdout",
          "text": [
            "Sphere of influence (SOI) radius of the Earth: 924540.0 kilometers\n"
          ]
        }
      ]
    }
  ]
}