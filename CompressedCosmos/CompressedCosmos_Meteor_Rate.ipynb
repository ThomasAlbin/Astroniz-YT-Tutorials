{
  "cells": [
    {
      "cell_type": "markdown",
      "metadata": {
        "colab_type": "text",
        "id": "view-in-github"
      },
      "source": [
        "<a href=\"https://colab.research.google.com/github/ThomasAlbin/Astroniz-YT-Tutorials/blob/main/CompressedCosmos/CompressedCosmos_Meteor_Rate.ipynb\" target=\"_parent\"><img src=\"https://colab.research.google.com/assets/colab-badge.svg\" alt=\"Open In Colab\"/></a>"
      ]
    },
    {
      "cell_type": "markdown",
      "metadata": {},
      "source": [
        "# Meteor Rate\n",
        "\n",
        "In this script we convert the ZHR (Zenithal Hourly Rate) of a meteor stream, to the actual expected rate."
      ]
    },
    {
      "cell_type": "code",
      "execution_count": 1,
      "metadata": {
        "id": "-p1vY0s5_Nqm"
      },
      "outputs": [],
      "source": [
        "import numpy as np\n",
        "from astropy.time import Time\n",
        "from astropy.coordinates import SkyCoord, EarthLocation, AltAz\n",
        "import astropy.units as u\n",
        "from datetime import datetime\n",
        "import pytz\n",
        "\n",
        "# --- Configuration ---\n",
        "# 1. Observer's Location (Default: Stuttgart, Germany)\n",
        "LOCATION = EarthLocation(lat=48.5 * u.deg, lon=9.0 * u.deg, height=200 * u.m)\n",
        "TIMEZONE = 'Europe/Berlin'\n",
        "\n",
        "# 2. Observation Date and Time\n",
        "# Change this to your desired observation time.\n",
        "OBSERVATION_DATETIME_STR = '2025-08-13 02:00:00' # Format: YYYY-MM-DD HH:MM:SS\n",
        "\n",
        "# 3. Perseids Shower Parameters\n",
        "PERSEID_RADIANT = SkyCoord(ra=48.0*u.deg, dec=58.0*u.deg, frame='icrs')\n",
        "# Population index 'r' describes the brightness distribution of meteors.\n",
        "# For Perseids, it's typically around 2.2 to 2.6.\n",
        "POPULATION_INDEX = 2.2\n",
        "\n",
        "# 4. Sky Condition Parameters\n",
        "# Limiting Magnitude (LM): The magnitude of the faintest star you can see.\n",
        "# 6.5 = Perfect dark sky, no moon\n",
        "# 5.0 = Good dark sky with some light pollution\n",
        "# 4.0 = Suburban sky / significant moonlight\n",
        "# 3.0 = Urban sky\n",
        "LIMITING_MAGNITUDE = 4.0\n",
        "\n",
        "# Cloud cover factor (0.0 = fully cloudy, 1.0 = perfectly clear)\n",
        "# You can also consider your \"personal FOV\" here. Like... you can only see XYZ % of the sky at all\n",
        "# times\n",
        "CLOUD_FACTOR = 1.0\n",
        "\n",
        "# Zenithal Hourly Rate of the Perseids. Needs to be updated frequently!\n",
        "# For example here: https://globalmeteornetwork.org/flux/\n",
        "zhr = 50"
      ]
    },
    {
      "cell_type": "code",
      "execution_count": 2,
      "metadata": {
        "id": "iq5tdyT0CQfc"
      },
      "outputs": [],
      "source": [
        "def calculate_expected_rate(location, time_str, tz):\n",
        "    \"\"\"\n",
        "    Calculates the expected meteor rate based on ZHR, location, and time.\n",
        "    \"\"\"\n",
        "    # Convert the observation time string to an Astropy Time object\n",
        "    local_time = pytz.timezone(tz).localize(datetime.strptime(time_str, '%Y-%m-%d %H:%M:%S'))\n",
        "    obs_time = Time(local_time)\n",
        "\n",
        "    # 2. Calculate the altitude of the radiant\n",
        "    altaz_frame = AltAz(obstime=obs_time, location=location)\n",
        "    radiant_altaz = PERSEID_RADIANT.transform_to(altaz_frame)\n",
        "    radiant_altitude = radiant_altaz.alt.deg\n",
        "\n",
        "    # If the radiant is below the horizon, we can't see any meteors from it.\n",
        "    if radiant_altitude < 0:\n",
        "        radiant_altitude = 0\n",
        "\n",
        "    print(f\"--- Calculating for {local_time.strftime('%Y-%m-%d %H:%M:%S %Z')} ---\")\n",
        "    print(f\"Base ZHR for this date: {zhr}\")\n",
        "    print(f\"Perseid radiant altitude: {radiant_altitude:.2f} degrees\")\n",
        "\n",
        "    # 3. Apply the correction formula\n",
        "    # Formula: HR = ZHR * F_c / (sin(hR) * r^(6.5 - lm))\n",
        "    # HR = Hourly Rate\n",
        "    # ZHR = Zenithal Hourly Rate\n",
        "    # F_c = Cloud Factor\n",
        "    # hR = Radiant Altitude in radians\n",
        "    # r = Population Index\n",
        "    # lm = Limiting Magnitude\n",
        "\n",
        "    hR = np.sin(np.radians(radiant_altitude))\n",
        "    lm = POPULATION_INDEX**(6.5 - LIMITING_MAGNITUDE)\n",
        "\n",
        "    # Calculate the final expected hourly rate\n",
        "    hr = zhr * hR / (CLOUD_FACTOR * lm)\n",
        "\n",
        "    return hr, radiant_altitude"
      ]
    },
    {
      "cell_type": "code",
      "execution_count": 3,
      "metadata": {
        "colab": {
          "base_uri": "https://localhost:8080/"
        },
        "id": "XTBEtFt_CRPB",
        "outputId": "9c1204e4-f83c-4dbc-fc0d-f580a49d0449"
      },
      "outputs": [
        {
          "name": "stdout",
          "output_type": "stream",
          "text": [
            "--- Calculating for 2025-08-13 02:00:00 CEST ---\n",
            "Base ZHR for this date: 50\n",
            "Perseid radiant altitude: 45.49 degrees\n",
            "\n",
            "--- Prediction Results ---\n",
            "Observer Location: Stuttgart, Germany\n",
            "Assumed Limiting Magnitude: 4.0\n",
            "Cloud Cover: 0%\n",
            "--------------------------\n",
            "Predicted number of Perseid meteors per hour: ~5\n"
          ]
        }
      ],
      "source": [
        "# --- Run the calculation and print results ---\n",
        "if __name__ == \"__main__\":\n",
        "    expected_rate, altitude = calculate_expected_rate(LOCATION, OBSERVATION_DATETIME_STR, TIMEZONE)\n",
        "\n",
        "    print(\"\\n--- Prediction Results ---\")\n",
        "    print(f\"Observer Location: Stuttgart, Germany\")\n",
        "    print(f\"Assumed Limiting Magnitude: {LIMITING_MAGNITUDE}\")\n",
        "    print(f\"Cloud Cover: {(1 - CLOUD_FACTOR) * 100:.0f}%\")\n",
        "    print(\"-\" * 26)\n",
        "    print(f\"Predicted number of Perseid meteors per hour: ~{expected_rate:.0f}\")"
      ]
    }
  ],
  "metadata": {
    "colab": {
      "include_colab_link": true,
      "provenance": []
    },
    "kernelspec": {
      "display_name": "Python 3",
      "name": "python3"
    }
  },
  "nbformat": 4,
  "nbformat_minor": 0
}
